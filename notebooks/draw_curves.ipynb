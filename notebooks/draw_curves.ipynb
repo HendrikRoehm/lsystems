{
 "cells": [
  {
   "cell_type": "code",
   "execution_count": null,
   "metadata": {},
   "outputs": [],
   "source": [
    "%load_ext autoreload\n",
    "%autoreload 2"
   ]
  },
  {
   "cell_type": "code",
   "execution_count": null,
   "metadata": {},
   "outputs": [],
   "source": [
    "import IPython.display as id\n",
    "import lsystems\n",
    "from lsystems import curves"
   ]
  },
  {
   "cell_type": "code",
   "execution_count": null,
   "metadata": {},
   "outputs": [],
   "source": [
    "sierp = curves.Sierpinski(width=5)\n",
    "id.display_svg(sierp.run_curved(4, writeOutput=True), raw=True)"
   ]
  },
  {
   "cell_type": "code",
   "execution_count": null,
   "metadata": {},
   "outputs": [],
   "source": [
    "dragon = curves.Dragon(width=5)\n",
    "id.display_svg(dragon.run_curved(9, writeOutput=True), raw=True)"
   ]
  },
  {
   "cell_type": "code",
   "execution_count": null,
   "metadata": {},
   "outputs": [],
   "source": [
    "hilb = curves.Hilbert()\n",
    "id.display_svg(hilb.run_curved(5, writeOutput=True), raw=True)"
   ]
  },
  {
   "cell_type": "code",
   "execution_count": null,
   "metadata": {},
   "outputs": [],
   "source": [
    "peano = curves.FractalPeano()\n",
    "id.display_svg(peano.run_curved(3, writeOutput=True), raw=True)"
   ]
  },
  {
   "cell_type": "code",
   "execution_count": null,
   "metadata": {},
   "outputs": [],
   "source": [
    "hend = curves.Hendragon()\n",
    "id.display_svg(hend.run_curved(4, writeOutput=True), raw=True)"
   ]
  },
  {
   "cell_type": "code",
   "execution_count": null,
   "metadata": {},
   "outputs": [],
   "source": [
    "hend_space_filling = curves.Hendragon2(width=2)\n",
    "id.display_svg(hend_space_filling.run_curved(3, writeOutput=True), raw=True)"
   ]
  },
  {
   "cell_type": "code",
   "execution_count": null,
   "metadata": {},
   "outputs": [],
   "source": []
  }
 ],
 "metadata": {
  "kernelspec": {
   "display_name": "lsystems-7PSGQ62c-py3.11",
   "language": "python",
   "name": "python3"
  },
  "language_info": {
   "codemirror_mode": {
    "name": "ipython",
    "version": 3
   },
   "file_extension": ".py",
   "mimetype": "text/x-python",
   "name": "python",
   "nbconvert_exporter": "python",
   "pygments_lexer": "ipython3",
   "version": "3.11.0rc1"
  },
  "vscode": {
   "interpreter": {
    "hash": "4509c6ec7bd7711d6bd10e6b16c4d86d149c51fedb6cee736624d6c53363aeea"
   }
  }
 },
 "nbformat": 4,
 "nbformat_minor": 2
}
