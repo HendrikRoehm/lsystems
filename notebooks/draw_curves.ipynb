{
 "cells": [
  {
   "cell_type": "code",
   "execution_count": null,
   "metadata": {},
   "outputs": [],
   "source": [
    "%load_ext autoreload\n",
    "%autoreload 2"
   ]
  },
  {
   "cell_type": "code",
   "execution_count": null,
   "metadata": {},
   "outputs": [],
   "source": [
    "import my_turtle as mt\n",
    "import lsystem as ls\n",
    "import IPython.display as id"
   ]
  },
  {
   "cell_type": "code",
   "execution_count": null,
   "metadata": {},
   "outputs": [],
   "source": [
    "t1 = mt.Turtle('sierpinski_curve.svg', {'A': 'F', 'B': 'F', '+': 'L', '-': 'R', 'O': 'O'}, 60, 50, 2000)\n",
    "t2 = mt.Turtle('dragon_curve.svg', {'F': 'F', 'G': 'F', '+': 'L', '-': 'R', 'O': 'O'}, 90, 50, 2000)"
   ]
  },
  {
   "cell_type": "code",
   "execution_count": null,
   "metadata": {},
   "outputs": [],
   "source": [
    "s_curve = ls.LSystem('A -> B - A - B; B -> A + B + A;', start_symbol='A') # sierpinski-curve\n",
    "d_curve = ls.LSystem('F -> F + G; G -> F - G;', start_symbol='F') # dragon-curve"
   ]
  },
  {
   "cell_type": "code",
   "execution_count": null,
   "metadata": {},
   "outputs": [],
   "source": [
    "t1.draw('---'+'O'*8+'+++'+'--'+'O'*20+'+++'+s_curve.run(5))\n",
    "svg_string = t1.to_svg()\n",
    "id.SVG(t1.to_svg())"
   ]
  },
  {
   "cell_type": "code",
   "execution_count": null,
   "metadata": {},
   "outputs": [],
   "source": [
    "t2.draw(d_curve.run(5))\n",
    "svg_string = t2.to_svg()\n",
    "id.SVG(t2.to_svg())"
   ]
  },
  {
   "cell_type": "code",
   "execution_count": null,
   "metadata": {},
   "outputs": [],
   "source": [
    "t1.write_output()\n",
    "t2.write_output()\n"
   ]
  }
 ],
 "metadata": {
  "kernelspec": {
   "display_name": "Python 3.10.4 ('lsystems')",
   "language": "python",
   "name": "python3"
  },
  "language_info": {
   "codemirror_mode": {
    "name": "ipython",
    "version": 3
   },
   "file_extension": ".py",
   "mimetype": "text/x-python",
   "name": "python",
   "nbconvert_exporter": "python",
   "pygments_lexer": "ipython3",
   "version": "3.10.6"
  },
  "orig_nbformat": 4,
  "vscode": {
   "interpreter": {
    "hash": "8d5deed1c776e4b2af0f5023a468222b2166b506a19b1dda1343748124c7a174"
   }
  }
 },
 "nbformat": 4,
 "nbformat_minor": 2
}
